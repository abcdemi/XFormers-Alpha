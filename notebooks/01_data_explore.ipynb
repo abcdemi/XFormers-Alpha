{
 "cells": [
  {
   "cell_type": "code",
   "execution_count": 3,
   "id": "8f851c13",
   "metadata": {},
   "outputs": [
    {
     "name": "stdout",
     "output_type": "stream",
     "text": [
      "Adding C:\\Users\\abcde\\Downloads\\GitHub\\XFormers-Alpha to sys.path\n"
     ]
    }
   ],
   "source": [
    "import sys\n",
    "import os\n",
    "\n",
    "notebook_dir = os.path.abspath('')\n",
    "\n",
    "project_root = os.path.dirname(notebook_dir)\n",
    "\n",
    "if project_root not in sys.path:\n",
    "    print(f\"Adding {project_root} to sys.path\")\n",
    "    sys.path.append(project_root)"
   ]
  },
  {
   "cell_type": "code",
   "execution_count": 6,
   "id": "2009e503",
   "metadata": {},
   "outputs": [],
   "source": [
    "from xformers_alpha.data.loaders import load_yfinance\n",
    "import pandas as pd"
   ]
  },
  {
   "cell_type": "code",
   "execution_count": 7,
   "id": "10893a0e",
   "metadata": {},
   "outputs": [],
   "source": [
    "pd.set_option('display.max_rows', 10)\n",
    "pd.set_option('display.width', 100)\n",
    "\n",
    "# Define a list of tickers for our universe\n",
    "universe_tickers = ['META', 'AMZN', 'NFLX', 'GOOGL']\n",
    "start_date = '2024-01-01'\n",
    "end_date = '2024-04-01'"
   ]
  },
  {
   "cell_type": "code",
   "execution_count": 9,
   "id": "34da9310",
   "metadata": {},
   "outputs": [
    {
     "name": "stdout",
     "output_type": "stream",
     "text": [
      "Downloading 1h data for NVDA from 2024-03-04 to 2024-03-09...\n"
     ]
    },
    {
     "name": "stderr",
     "output_type": "stream",
     "text": [
      "C:\\Users\\abcde\\Downloads\\GitHub\\XFormers-Alpha\\xformers_alpha\\data\\loaders.py:67: FutureWarning: YF.download() has changed argument auto_adjust default to True\n",
      "  data = yf.download(ticker, start=start, end=end, interval=interval, progress=False)\n"
     ]
    },
    {
     "name": "stdout",
     "output_type": "stream",
     "text": [
      "\n",
      "Successfully downloaded hourly data:\n",
      "Price                  timestamp        open        high         low       close    volume\n",
      "Ticker                                  NVDA        NVDA        NVDA        NVDA      NVDA\n",
      "0      2024-03-04 14:30:00+00:00  843.375000  853.085022  838.065002  848.280029  17164510\n",
      "1      2024-03-04 15:30:00+00:00  848.135986  855.450012  848.020081  852.161621         0\n",
      "2      2024-03-04 16:30:00+00:00  852.280029  860.780029  849.109985  860.330078   3941861\n",
      "3      2024-03-04 17:30:00+00:00  860.469971  869.939880  858.010010  866.130005   5327134\n",
      "4      2024-03-04 18:30:00+00:00  866.333801  874.499878  864.534973  871.440002   4719049\n",
      "\n",
      "...\n",
      "Price                  timestamp        open        high         low       close    volume\n",
      "Ticker                                  NVDA        NVDA        NVDA        NVDA      NVDA\n",
      "30     2024-03-08 16:30:00+00:00  905.038513  914.609985  880.580017  895.790527  21364970\n",
      "31     2024-03-08 17:30:00+00:00  895.775024  900.840027  870.770020  876.059998  12407589\n",
      "32     2024-03-08 18:30:00+00:00  875.863220  884.890015  865.059998  881.409973  11312076\n",
      "33     2024-03-08 19:30:00+00:00  881.759888  893.710022  877.950012  880.557495  10693960\n",
      "34     2024-03-08 20:30:00+00:00  880.210083  885.183228  874.150024  875.020020   5829805\n",
      "\n",
      "Total hours of data downloaded: 35\n"
     ]
    }
   ],
   "source": [
    "# Define the ticker, date range, and a 1-hour interval\n",
    "ticker = 'NVDA'\n",
    "start_date = '2024-03-04'\n",
    "end_date = '2024-03-09'\n",
    "interval = '1h'\n",
    "\n",
    "print(f\"Downloading {interval} data for {ticker} from {start_date} to {end_date}...\")\n",
    "nvda_hourly_df = load_yfinance(\n",
    "    ticker=ticker,\n",
    "    start=start_date,\n",
    "    end=end_date,\n",
    "    interval=interval\n",
    ")\n",
    "\n",
    "print(\"\\nSuccessfully downloaded hourly data:\")\n",
    "print(nvda_hourly_df.head())\n",
    "print(\"\\n...\")\n",
    "print(nvda_hourly_df.tail())\n",
    "\n",
    "print(f\"\\nTotal hours of data downloaded: {len(nvda_hourly_df)}\")"
   ]
  },
  {
   "cell_type": "code",
   "execution_count": null,
   "id": "afdfe462",
   "metadata": {},
   "outputs": [],
   "source": []
  }
 ],
 "metadata": {
  "kernelspec": {
   "display_name": "Python 3 (ipykernel)",
   "language": "python",
   "name": "python3"
  },
  "language_info": {
   "codemirror_mode": {
    "name": "ipython",
    "version": 3
   },
   "file_extension": ".py",
   "mimetype": "text/x-python",
   "name": "python",
   "nbconvert_exporter": "python",
   "pygments_lexer": "ipython3",
   "version": "3.11.4"
  }
 },
 "nbformat": 4,
 "nbformat_minor": 5
}
