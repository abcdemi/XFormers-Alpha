{
 "cells": [
  {
   "cell_type": "code",
   "execution_count": 3,
   "id": "6239df14",
   "metadata": {},
   "outputs": [
    {
     "name": "stdout",
     "output_type": "stream",
     "text": [
      "Adding C:\\Users\\abcde\\Downloads\\GitHub\\XFormers-Alpha to sys.path\n"
     ]
    }
   ],
   "source": [
    "import sys\n",
    "import os\n",
    "\n",
    "notebook_dir = os.path.abspath('')\n",
    "\n",
    "project_root = os.path.dirname(notebook_dir)\n",
    "\n",
    "if project_root not in sys.path:\n",
    "    print(f\"Adding {project_root} to sys.path\")\n",
    "    sys.path.append(project_root)"
   ]
  },
  {
   "cell_type": "code",
   "execution_count": 10,
   "id": "7461a406",
   "metadata": {},
   "outputs": [],
   "source": [
    "from xformers_alpha.data.loaders import load_yfinance, load_universe\n",
    "import pandas as pd"
   ]
  },
  {
   "cell_type": "code",
   "execution_count": 7,
   "id": "d6bd61bf",
   "metadata": {},
   "outputs": [],
   "source": [
    "pd.set_option('display.max_rows', 10)\n",
    "pd.set_option('display.width', 100)\n",
    "\n",
    "# Define a list of tickers for our universe\n",
    "universe_tickers = ['META', 'AMZN', 'NFLX', 'GOOGL']\n",
    "start_date = '2024-01-01'\n",
    "end_date = '2024-04-01'"
   ]
  },
  {
   "cell_type": "code",
   "execution_count": 9,
   "id": "dda8e1b7",
   "metadata": {},
   "outputs": [
    {
     "name": "stdout",
     "output_type": "stream",
     "text": [
      "Downloading 1h data for NVDA from 2024-03-04 to 2024-03-09...\n"
     ]
    },
    {
     "name": "stderr",
     "output_type": "stream",
     "text": [
      "C:\\Users\\abcde\\Downloads\\GitHub\\XFormers-Alpha\\xformers_alpha\\data\\loaders.py:67: FutureWarning: YF.download() has changed argument auto_adjust default to True\n",
      "  data = yf.download(ticker, start=start, end=end, interval=interval, progress=False)\n"
     ]
    },
    {
     "name": "stdout",
     "output_type": "stream",
     "text": [
      "\n",
      "Successfully downloaded hourly data:\n",
      "Price                  timestamp        open        high         low       close    volume\n",
      "Ticker                                  NVDA        NVDA        NVDA        NVDA      NVDA\n",
      "0      2024-03-04 14:30:00+00:00  843.375000  853.085022  838.065002  848.280029  17164510\n",
      "1      2024-03-04 15:30:00+00:00  848.135986  855.450012  848.020081  852.161621         0\n",
      "2      2024-03-04 16:30:00+00:00  852.280029  860.780029  849.109985  860.330078   3941861\n",
      "3      2024-03-04 17:30:00+00:00  860.469971  869.939880  858.010010  866.130005   5327134\n",
      "4      2024-03-04 18:30:00+00:00  866.333801  874.499878  864.534973  871.440002   4719049\n",
      "\n",
      "...\n",
      "Price                  timestamp        open        high         low       close    volume\n",
      "Ticker                                  NVDA        NVDA        NVDA        NVDA      NVDA\n",
      "30     2024-03-08 16:30:00+00:00  905.038513  914.609985  880.580017  895.790527  21364970\n",
      "31     2024-03-08 17:30:00+00:00  895.775024  900.840027  870.770020  876.059998  12407589\n",
      "32     2024-03-08 18:30:00+00:00  875.863220  884.890015  865.059998  881.409973  11312076\n",
      "33     2024-03-08 19:30:00+00:00  881.759888  893.710022  877.950012  880.557495  10693960\n",
      "34     2024-03-08 20:30:00+00:00  880.210083  885.183228  874.150024  875.020020   5829805\n",
      "\n",
      "Total hours of data downloaded: 35\n"
     ]
    }
   ],
   "source": [
    "# Define the ticker, date range, and a 1-hour interval\n",
    "ticker = 'NVDA'\n",
    "start_date = '2024-03-04'\n",
    "end_date = '2024-03-09'\n",
    "interval = '1h'\n",
    "\n",
    "print(f\"Downloading {interval} data for {ticker} from {start_date} to {end_date}...\")\n",
    "nvda_hourly_df = load_yfinance(\n",
    "    ticker=ticker,\n",
    "    start=start_date,\n",
    "    end=end_date,\n",
    "    interval=interval\n",
    ")\n",
    "\n",
    "print(\"\\nSuccessfully downloaded hourly data:\")\n",
    "print(nvda_hourly_df.head())\n",
    "print(\"\\n...\")\n",
    "print(nvda_hourly_df.tail())\n",
    "\n",
    "print(f\"\\nTotal hours of data downloaded: {len(nvda_hourly_df)}\")"
   ]
  },
  {
   "cell_type": "code",
   "execution_count": 11,
   "id": "1f5ab37b",
   "metadata": {},
   "outputs": [
    {
     "name": "stdout",
     "output_type": "stream",
     "text": [
      "Downloading data for universe: ['META', 'AMZN', 'NFLX', 'GOOGL']...\n"
     ]
    },
    {
     "name": "stderr",
     "output_type": "stream",
     "text": [
      "C:\\Users\\abcde\\Downloads\\GitHub\\XFormers-Alpha\\xformers_alpha\\data\\loaders.py:67: FutureWarning: YF.download() has changed argument auto_adjust default to True\n",
      "  data = yf.download(ticker, start=start, end=end, interval=interval, progress=False)\n",
      "C:\\Users\\abcde\\Downloads\\GitHub\\XFormers-Alpha\\xformers_alpha\\data\\loaders.py:67: FutureWarning: YF.download() has changed argument auto_adjust default to True\n",
      "  data = yf.download(ticker, start=start, end=end, interval=interval, progress=False)\n",
      "C:\\Users\\abcde\\Downloads\\GitHub\\XFormers-Alpha\\xformers_alpha\\data\\loaders.py:67: FutureWarning: YF.download() has changed argument auto_adjust default to True\n",
      "  data = yf.download(ticker, start=start, end=end, interval=interval, progress=False)\n",
      "C:\\Users\\abcde\\Downloads\\GitHub\\XFormers-Alpha\\xformers_alpha\\data\\loaders.py:67: FutureWarning: YF.download() has changed argument auto_adjust default to True\n",
      "  data = yf.download(ticker, start=start, end=end, interval=interval, progress=False)\n"
     ]
    },
    {
     "name": "stdout",
     "output_type": "stream",
     "text": [
      "\n",
      "Download complete. Data is stored in a dictionary.\n",
      "Tickers loaded: ['META', 'AMZN', 'NFLX', 'GOOGL']\n",
      "\n",
      "--- Sample data for META ---\n",
      "Price                  timestamp        open        high         low       close    volume\n",
      "Ticker                                  META        META        META        META      META\n",
      "0      2024-03-04 00:00:00+00:00  500.786357  502.200122  494.235329  495.997528  12324100\n",
      "1      2024-03-05 00:00:00+00:00  492.821554  493.398988  485.742859  488.062592  15325300\n",
      "2      2024-03-06 00:00:00+00:00  495.439969  500.756465  492.114672  493.906738  11757900\n",
      "3      2024-03-07 00:00:00+00:00  501.065121  517.562176  499.173489  509.935913  18586400\n",
      "4      2024-03-08 00:00:00+00:00  511.927116  521.265840  497.152428  503.723389  18597100\n",
      "\n",
      "--- Sample data for AMZN ---\n",
      "Price                  timestamp        open        high         low       close    volume\n",
      "Ticker                                  AMZN        AMZN        AMZN        AMZN      AMZN\n",
      "0      2024-03-04 00:00:00+00:00  177.529999  180.139999  177.490005  177.580002  37381500\n",
      "1      2024-03-05 00:00:00+00:00  176.929993  176.929993  173.300003  174.119995  37228300\n",
      "2      2024-03-06 00:00:00+00:00  175.539993  176.460007  173.259995  173.509995  32090900\n",
      "3      2024-03-07 00:00:00+00:00  174.830002  177.990005  173.720001  176.820007  34063300\n",
      "4      2024-03-08 00:00:00+00:00  176.440002  178.789993  174.330002  175.350006  37893200\n"
     ]
    }
   ],
   "source": [
    "print(f\"Downloading data for universe: {universe_tickers}...\")\n",
    "    \n",
    "# Use the load_universe function with the 'yfinance' source\n",
    "stock_data = load_universe(\n",
    "    tickers=universe_tickers,\n",
    "    start=start_date,\n",
    "    end=end_date,\n",
    "    source='yfinance'\n",
    ")\n",
    "\n",
    "print(\"\\nDownload complete. Data is stored in a dictionary.\")\n",
    "print(f\"Tickers loaded: {list(stock_data.keys())}\")\n",
    "\n",
    "# You can now access the DataFrame for each ticker\n",
    "print(\"\\n--- Sample data for META ---\")\n",
    "meta_df = stock_data['META']\n",
    "print(meta_df.head())\n",
    "\n",
    "print(\"\\n--- Sample data for AMZN ---\")\n",
    "amazon_df = stock_data['AMZN']\n",
    "print(amazon_df.head())"
   ]
  },
  {
   "cell_type": "code",
   "execution_count": null,
   "id": "34a11b72",
   "metadata": {},
   "outputs": [],
   "source": []
  }
 ],
 "metadata": {
  "kernelspec": {
   "display_name": "Python 3 (ipykernel)",
   "language": "python",
   "name": "python3"
  },
  "language_info": {
   "codemirror_mode": {
    "name": "ipython",
    "version": 3
   },
   "file_extension": ".py",
   "mimetype": "text/x-python",
   "name": "python",
   "nbconvert_exporter": "python",
   "pygments_lexer": "ipython3",
   "version": "3.11.4"
  }
 },
 "nbformat": 4,
 "nbformat_minor": 5
}
